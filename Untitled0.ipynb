{
  "nbformat": 4,
  "nbformat_minor": 0,
  "metadata": {
    "colab": {
      "name": "Untitled0.ipynb",
      "provenance": [],
      "authorship_tag": "ABX9TyO4L6kZpFRaAsR7jLOzsl+k",
      "include_colab_link": true
    },
    "kernelspec": {
      "name": "python3",
      "display_name": "Python 3"
    },
    "language_info": {
      "name": "python"
    }
  },
  "cells": [
    {
      "cell_type": "markdown",
      "metadata": {
        "id": "view-in-github",
        "colab_type": "text"
      },
      "source": [
        "<a href=\"https://colab.research.google.com/github/Tito100207/Recommendation-Engine/blob/master/Untitled0.ipynb\" target=\"_parent\"><img src=\"https://colab.research.google.com/assets/colab-badge.svg\" alt=\"Open In Colab\"/></a>"
      ]
    },
    {
      "cell_type": "code",
      "metadata": {
        "colab": {
          "base_uri": "https://localhost:8080/"
        },
        "id": "ISU2WtuNmvop",
        "outputId": "2dbd0313-beed-4f2b-b60f-4c728828a1f2"
      },
      "source": [
        "time_count = 3600\n",
        "min_ute = 60\n",
        "Megan_walk_hr = abs((int(input()))) * (time_count)\n",
        "Megan_walk_2 =  abs((int(input()))) * (min_ute)\n",
        "Megan_walk_3 =  abs((int(input()))) \n",
        "rain_starts_1 =  abs((int(input()))) * (time_count)\n",
        "rain_starts_2 =  abs((int(input())))  * (min_ute)\n",
        "rain_starts_3 =  abs((int(input()))) \n",
        "print(Megan_walk_hr + Megan_walk_2 + Megan_walk_3 + rain_starts_1 + rain_starts_2 + rain_starts_3)"
      ],
      "execution_count": null,
      "outputs": [
        {
          "output_type": "stream",
          "name": "stdout",
          "text": [
            "1\n",
            "2\n",
            "3\n",
            "4\n",
            "5\n",
            "6\n",
            "18429\n"
          ]
        }
      ]
    },
    {
      "cell_type": "code",
      "metadata": {
        "colab": {
          "base_uri": "https://localhost:8080/"
        },
        "id": "LXrvEViyGK9j",
        "outputId": "bc80df1f-9ddb-4afd-b288-f947dde89a79"
      },
      "source": [
        "first_number = input()\n",
        "second_number = input()\n",
        "print(int(first_number) + int(second_number))"
      ],
      "execution_count": null,
      "outputs": [
        {
          "output_type": "stream",
          "name": "stdout",
          "text": [
            "3\n",
            "4\n",
            "7\n"
          ]
        }
      ]
    },
    {
      "cell_type": "code",
      "metadata": {
        "colab": {
          "base_uri": "https://localhost:8080/"
        },
        "id": "gnIsHM2E2d3v",
        "outputId": "a12ac223-46ba-46a0-aed6-7a4bd9373d66"
      },
      "source": [
        "no_of_Squirrels = int(input())\n",
        "no_of_nuts = int(input())\n",
        "print( no_of_nuts % no_of_Squirrels)\n"
      ],
      "execution_count": 3,
      "outputs": [
        {
          "output_type": "stream",
          "name": "stdout",
          "text": [
            "3\n",
            "14\n",
            "2\n"
          ]
        }
      ]
    },
    {
      "cell_type": "code",
      "metadata": {
        "colab": {
          "base_uri": "https://localhost:8080/"
        },
        "id": "3HhIsHOb5ix3",
        "outputId": "6a8e7867-dc10-43e7-fc95-66a85c0d4c23"
      },
      "source": [
        "print('Hello! My name is Aid.')\n",
        "print('I was created in 2020.')\n",
        "print('Please, remind me your name.')\n",
        "\n",
        "name = input()\n",
        "\n",
        "print('What a great name you have, ' + name + '!')"
      ],
      "execution_count": 4,
      "outputs": [
        {
          "output_type": "stream",
          "name": "stdout",
          "text": [
            "Hello! My name is Aid.\n",
            "I was created in 2020.\n",
            "Please, remind me your name.\n",
            "ttkdf\n",
            "What a great name you have, ttkdf!\n"
          ]
        }
      ]
    },
    {
      "cell_type": "code",
      "metadata": {
        "colab": {
          "base_uri": "https://localhost:8080/"
        },
        "id": "NFU4r70sDYff",
        "outputId": "ba18e53d-9fe5-4daf-9344-7bfd60f1d612"
      },
      "source": [
        "class_room1 = abs(int(input()))\n",
        "class_room2 = abs(int(input()))\n",
        "class_room3 = abs(int(input()))\n",
        "desk_unit = ((class_room1) + (class_room2) + (class_room3)) // 2\n",
        "print (desk_unit)"
      ],
      "execution_count": 8,
      "outputs": [
        {
          "output_type": "stream",
          "name": "stdout",
          "text": [
            "31\n",
            "25\n",
            "28\n",
            "42\n"
          ]
        }
      ]
    },
    {
      "cell_type": "code",
      "metadata": {
        "id": "Ii3ONQMqzuVT"
      },
      "source": [
        "digital = \"computer, camera, telephone,flying bikes, mircochip\"\n",
        "manual = \"books, chair, table, pencil\"\n",
        "future = \"flying bikes, flying cars, flying shoes, books\"\n",
        "\n",
        "if future in digital:\n",
        "    print(\"What a great future\")"
      ],
      "execution_count": 1,
      "outputs": []
    },
    {
      "cell_type": "code",
      "metadata": {
        "id": "8bz4slck02CW"
      },
      "source": [
        ""
      ],
      "execution_count": null,
      "outputs": []
    },
    {
      "cell_type": "code",
      "metadata": {
        "id": "ZOpbC1WC02Qa"
      },
      "source": [
        "digital = \"computer, camera, telephone,flying bikes, mircochip\"\n",
        "manual = \"books, chair, table, pencil\"\n",
        "future = \"flying bikes, flying cars, flying shoes, books\"\n",
        "\n",
        "if future in digital:\n",
        "    print(\"What a great future\")\n",
        "    if manual in future:\n",
        "        print(\"our future is bright\")"
      ],
      "execution_count": 3,
      "outputs": []
    },
    {
      "cell_type": "code",
      "metadata": {
        "colab": {
          "base_uri": "https://localhost:8080/"
        },
        "id": "Hr-r97xN2tX4",
        "outputId": "5d7aab07-b5ef-42f0-aac3-ed456981d2a6"
      },
      "source": [
        "rainbow = \"red, orange, yellow, green, blue, indigo, violet\"\n",
        "warm_colors = \"red, yellow, orange\"\n",
        "my_color = \"orange\"\n",
        "\n",
        "if my_color in rainbow:\n",
        "    print(\"Wow, your color is in the rainbow!\")\n",
        "    if my_color in warm_colors:\n",
        "        print(\"Oh, by the way, it's a warm color.\")"
      ],
      "execution_count": 2,
      "outputs": [
        {
          "output_type": "stream",
          "name": "stdout",
          "text": [
            "Wow, your color is in the rainbow!\n",
            "Oh, by the way, it's a warm color.\n"
          ]
        }
      ]
    },
    {
      "cell_type": "code",
      "metadata": {
        "id": "j-pgcbSs3AzE"
      },
      "source": [
        ""
      ],
      "execution_count": null,
      "outputs": []
    },
    {
      "cell_type": "code",
      "metadata": {
        "id": "WtDTnZIK3A4g"
      },
      "source": [
        ""
      ],
      "execution_count": null,
      "outputs": []
    }
  ]
}